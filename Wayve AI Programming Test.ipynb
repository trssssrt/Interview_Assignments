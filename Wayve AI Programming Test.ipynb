{
 "cells": [
  {
   "cell_type": "markdown",
   "metadata": {},
   "source": [
    "# Question 1\n",
    "*This question examines your programming and software testing skills.*\n",
    "\n",
    "We wish to train a machine learning algorithm on an array of floating point numbers in the\n",
    "interval `[0.0, 1.0). The data is horribly unbalanced (not evenly distributed) and we wish to\n",
    "filter the dataset to obtain a subset containing an equal number of values from each interval\n",
    "[0, 0.2), [0.2, 0.4), ... [0.8, 1.0), throwing away as little data as possible.\n",
    "\n",
    "\n",
    "1. Write a program which reads comma-separated floating point numbers in a single\n",
    "line from stdin, and prints the filtered data to stdout in the same format.\n",
    "\n",
    "\n",
    "2. Provide some automated test cases for your program.\n",
    "\n",
    "Trivial example:\n",
    "\n",
    "$ echo 0.1,0.3,0.5,0.7,0.9 | /my-program\n",
    "\n",
    "0.1,0.3,0.5,0.7,0.9"
   ]
  },
  {
   "cell_type": "code",
   "execution_count": null,
   "metadata": {},
   "outputs": [],
   "source": []
  },
  {
   "cell_type": "markdown",
   "metadata": {},
   "source": [
    "# Question 2\n",
    "*This question examines your software engineering and design abilities. *\n",
    "\n",
    "You will be marked on\n",
    "correctness, maintainability, extensibility, abstraction, and modularity.\n",
    "Suppose you are asked to write a simple game involving a spaceship and an asteroid. The\n",
    "spaceship and an asteroid have a position and orientation in a 2D plane. The aim of the\n",
    "game is for the spaceship to fire a missile at the asteroid and destroy it.\n",
    "\n",
    "1. Describe or draw a software design for this game.\n",
    "\n",
    "    a. This may include a system diagram, flow chart, class diagram, etc.\n",
    "    \n",
    "    b. State any assumptions you make.\n",
    "\n",
    "2. Outline the code for the spaceship, asteroid, and missile.\n",
    "\n",
    "    a. Show any data structures and stubs for methods and/or functions that show the implementation of your design in part (a).\n",
    "\n",
    "    b. State any assumptions you make.\n",
    "\n",
    "    c. It is not necessary to make a functional game (in particular, do not worry about graphics or a game engine).\n",
    "\n",
    "3. Write a function or method to determine if the spaceship can hit its target.\n",
    "\n",
    "    a. The spaceship can only hit when within a certain distance and angle from the asteroid."
   ]
  },
  {
   "cell_type": "code",
   "execution_count": null,
   "metadata": {},
   "outputs": [],
   "source": []
  },
  {
   "cell_type": "markdown",
   "metadata": {},
   "source": [
    "# Question 3\n",
    "*This question examines how you deal with ambiguity.*\n",
    "\n",
    "Suppose we have a fleet of 10 identical Autonomous Vehicles with the same sensor suite and storage capabilities.\n",
    "\n",
    "1. How much data would this fleet collect over a week?\n",
    "\n",
    "    a. State your assumptions and show your calculations.\n",
    "\n",
    "    b. There are many possible exact values for this question. We are looking at your process, assumptions, and logic."
   ]
  },
  {
   "cell_type": "markdown",
   "metadata": {},
   "source": [
    "Let's assume that each vehicle has the same set of sensors and that they acquire data at the same rate. We also assume that instead of solely altering and improving performance that the data is stored onboard each device. Furthermore, we shall assume that rather than storing the pure data we employ a data compression algorithm with the same compression ratio as Lossy audio (20% of the original file size is saved).  We do not include the sensors placed inside traditional vehicles shall not be included in our calculations. We minimize our sensors to the following on each device: <br/>\n",
    "\n",
    "\n",
    "| Sensor  |  Quantity | Description  | Data Acquisition Rate  | Hourly Pre-Compressed Data Stored (Mb)  | Hourly Compressed Data Stored (Mb)  |\n",
    "|---|---|---|---|---|---|\n",
    "| Video  |  4 | One camera on the center of each face  | 480p at 30 fps  | 700  | 140  |\n",
    "| Video  |  4 | One fish eye lense on each of the cars  | 480p at 30 fps  | 700  | 140  |\n",
    "| Proximity Sensor  |  8 | One at each location next to a camera  |  - | 200  | 40  |\n",
    "\n",
    "\n",
    "Additionally, we assume that these vehicles are given 20 minutes to refuel, can run for 4 hours between refueling, and run straight throghout the week. Meaning that we have 16 hours of runtime a day. We need to store at least  $2 * (140 * 16 * 7) + 40 * 16 * 7 = 35840$ Mb or 35.84 Gb.\n",
    "    \n",
    "Note: We assume that there are fail safe devices which automatically turn on. These devices, however, are assumed to turn on and begin acquiring data as a damaged device is broken. These numbers are not included since (ideally) the change between which device records would be minimal."
   ]
  },
  {
   "cell_type": "markdown",
   "metadata": {},
   "source": [
    "# Question 4\n",
    "\n",
    "*This tests your ability to solve problems by writing algorithms.*\n",
    "\n",
    "Consider the game of tic-tac-toe (noughts and crosses). A single game of tic-tac-toe consists of up to 9 moves by the players, whether it ends in a win or stalemate.\n",
    "\n",
    "1. Write a program which counts how many possible games consist of a certain number of moves.<br/>\n",
    "    a. The maximum number of moves in a game is 9, so there are at most 9! = 362,880 possible games total.<br/>\n",
    "    b. The minimum number of moves in a game is 5 (it’s not possible to win before 5 moves).<br/>\n",
    "    c. The order of moves is important, multiple games will end with the exact same board configuration.<br/>\n",
    "    d. Your program should print a whitespace-separated table. Moves in the game in the left column and corresponding number of possible games in the right, following the example below.<br/>\n",
    "    \n",
    "Output format example (these numbers are incorrect):<br/>\n",
    "5 78492<br/>\n",
    "6 289<br/>\n",
    "7 48901<br/>\n",
    "8 8172<br/>\n",
    "9 231<br/>"
   ]
  },
  {
   "cell_type": "code",
   "execution_count": null,
   "metadata": {},
   "outputs": [],
   "source": []
  },
  {
   "cell_type": "markdown",
   "metadata": {},
   "source": [
    "# Question 5\n",
    "*This tests your ability to solve problems by writing algorithms.*\n",
    "\n",
    "A rival AI company, Tesmo, has made two autonomous vehicles. Fortunately they aren’t very good. They only have two cars with the same program, which consists of at most 10 instructions. Each instruction is one of:<br/>\n",
    " \n",
    "| Command | Directions |\n",
    "| ------------- |-------------|\n",
    "| 👈     | Drive backwards one car length |\n",
    "| 👉     | Drive forwards one car length |\n",
    "| 🙈 | Skip the next instruction if there’s a crater under the car |\n",
    "| An integer 0-9 | Jump to the instruction corresponding to this index, e.g. “1” jumps to the second instruction in the program |\n",
    "\n",
    "\n",
    "Due to a mixup in the requirements process, the two vehicles have been airdropped at different positions on an infinite, straight road (their process may have been like this). When they hit the ground, they each leave a crater at the spot they landed and start facing the same direction.<br/>\n",
    "1. Write a program that ensures the vehicles will crash into each other (clients want the strangest things).<br/>\n",
    "    a. The program should be identical for both cars.<br/>\n",
    "    b. They should crash regardless of where they start.<br/>\n",
    "    c. Assume that executing each instruction takes exactly the same amount of time and that both cars start execution at the same time."
   ]
  },
  {
   "cell_type": "code",
   "execution_count": null,
   "metadata": {},
   "outputs": [],
   "source": []
  }
 ],
 "metadata": {
  "kernelspec": {
   "display_name": "Python 3",
   "language": "python",
   "name": "python3"
  },
  "language_info": {
   "codemirror_mode": {
    "name": "ipython",
    "version": 3
   },
   "file_extension": ".py",
   "mimetype": "text/x-python",
   "name": "python",
   "nbconvert_exporter": "python",
   "pygments_lexer": "ipython3",
   "version": "3.7.3"
  }
 },
 "nbformat": 4,
 "nbformat_minor": 2
}
