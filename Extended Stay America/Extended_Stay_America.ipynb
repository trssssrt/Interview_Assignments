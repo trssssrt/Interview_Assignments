{
 "cells": [
  {
   "cell_type": "markdown",
   "metadata": {},
   "source": [
    "# Assignment:\n",
    "Please select 2 of the following 3 problems and implement a solution in the language of your choice.  \n",
    "\n",
    "Please feel free to ask any questions.  \n",
    "\n",
    "Treat this as a small production application regarding code quality and implementation.  \n",
    "\n",
    "Email the source code and runnable executable along with a brief description of your solution.  \n",
    "\n",
    "Please list any assumptions you make in your solution description."
   ]
  },
  {
   "cell_type": "markdown",
   "metadata": {},
   "source": [
    "## Problem 1:\n",
    "Create a program that will traverse all the folders based on a given path, and print out the names of all text files that reside in the lowest depth folder.\n",
    "\n",
    "Given\n",
    "\n",
    "C:\\Temp\n",
    "\n",
    "    Hello.txt\n",
    "\t\n",
    "    \\Foo\n",
    "\t\t\n",
    "        Goodbye.txt\n",
    "\n",
    "If the above folder structure existed and the user entered C:\\Temp as the path, the output would be:\n",
    "Goodbye.txt\n",
    "\n",
    "## Solution\n",
    "We make the following set of assumptions\n",
    "\n",
    "### Assumption 1\n",
    "The user wants to print the output of the folder with the deepest extension. That is:\n",
    "\n",
    "C:\\Temp\n",
    "\n",
    "    Hello.txt\n",
    "    \n",
    "    \\Foo\n",
    "        \n",
    "        AnotherFile.docx\n",
    "        \n",
    "Then Hello.txt will be the output\n",
    "\n",
    "### Assumption 2\n",
    "If there are files with the right extension and at the same depth then the path and the files will be printed.\n",
    "\n",
    "### Assumption 3\n",
    "In the provided example, there is only one folder at the maximum depth. If this happens, then we will only print files with the right extension at that level"
   ]
  },
  {
   "cell_type": "code",
   "execution_count": 1,
   "metadata": {},
   "outputs": [
    {
     "name": "stdout",
     "output_type": "stream",
     "text": [
      "Readme.txt\n"
     ]
    }
   ],
   "source": [
    "import os\n",
    "from itertools import groupby\n",
    "from operator import itemgetter\n",
    "\n",
    "SEARCH_PATH = \"/Users/robert/Downloads/\"\n",
    "accepted_file_type = '.txt' # Only will find files with .txt extension\n",
    "\n",
    "all_files = {}\n",
    "prev_max_depth = 0\n",
    "prev_directory = 0\n",
    "print_Directory = False\n",
    "\n",
    "# Walk through folders\n",
    "for root, dirs, files in os.walk(SEARCH_PATH):\n",
    "    for file in files:\n",
    "        relativePath = os.path.relpath(root, SEARCH_PATH)\n",
    "        \n",
    "        # os.walk is in root directory\n",
    "        if relativePath == \".\":\n",
    "            relativePath = \"\"\n",
    "        else:\n",
    "            relativePath += os.path.sep\n",
    "        \n",
    "        # Only add folders and files, that are deeper or at the same level, to all_files list\n",
    "        if relativePath.count(os.path.sep) >= prev_max_depth:\n",
    "            prev_max_depth = relativePath.count(os.path.sep)\n",
    "            \n",
    "            # Only consider files if they have the right extension\n",
    "            if accepted_file_type in file:\n",
    "                if prev_max_depth not in all_files:\n",
    "                    all_files[prev_max_depth] = {}\n",
    "                if relativePath not in all_files[prev_max_depth]:\n",
    "                    all_files[prev_max_depth][relativePath] = []\n",
    "                all_files[prev_max_depth][relativePath].append(file)\n",
    "            \n",
    "                # Remove all lower-depth folders and files\n",
    "                current_max = all_files[prev_max_depth]\n",
    "                all_files = {prev_max_depth:current_max}\n",
    "                \n",
    "max_depth = max(all_files, key=int)\n",
    "for folder in all_files[max_depth]:\n",
    "    # Only print directory based on Assumption #2\n",
    "    if len(all_files[max_depth]) != 1 or print_Directory:\n",
    "        print(f'Directory: {folder}')\n",
    "    for file in all_files[max_depth][folder]:\n",
    "        print(f'{file}')"
   ]
  },
  {
   "cell_type": "markdown",
   "metadata": {},
   "source": [
    "##  Problem 2:\n",
    "Given 2 trains approach each other from opposite directions on parallel tracks\n",
    "\n",
    "The user enters the distance (miles) between the trains\n",
    "\n",
    "The user enters the speed of each of the two trains (mpg)\n",
    "\n",
    "Output how many minutes until the two trains pass each other and the distance each train will travel.\n",
    "\n",
    "## Solution\n",
    "We shall assume that  mpg is a typo for mph. We also assume that we are calculating the time that it will take for the front of the trains to intersect. If we do not make this last assumption we need to know various other factors (e.g. the length of each train, at which part of which train we shall be considered passing, etc.)"
   ]
  },
  {
   "cell_type": "code",
   "execution_count": 2,
   "metadata": {},
   "outputs": [
    {
     "name": "stdout",
     "output_type": "stream",
     "text": [
      "Time until trains intercept each other: 12.0 minutes\n",
      "Train 1 travels: 8.0 miles\n",
      "Train 2 travels: 2.0 miles\n"
     ]
    }
   ],
   "source": [
    "\n",
    "distance_between_trains = 10\n",
    "v_train_1 = 40\n",
    "v_train_2 = 10\n",
    "minutes_in_an_hour = 60\n",
    "hours_until_impact = distance_between_trains / (v_train_1 + v_train_2)\n",
    "print(f\"Time until trains intercept each other: {hours_until_impact * minutes_in_an_hour} minutes\")\n",
    "print(f\"Train 1 travels: {hours_until_impact * v_train_1} miles\")\n",
    "print(f\"Train 2 travels: {hours_until_impact * v_train_2} miles\")"
   ]
  },
  {
   "cell_type": "code",
   "execution_count": null,
   "metadata": {},
   "outputs": [],
   "source": []
  }
 ],
 "metadata": {
  "kernelspec": {
   "display_name": "Python 3",
   "language": "python",
   "name": "python3"
  },
  "language_info": {
   "codemirror_mode": {
    "name": "ipython",
    "version": 3
   },
   "file_extension": ".py",
   "mimetype": "text/x-python",
   "name": "python",
   "nbconvert_exporter": "python",
   "pygments_lexer": "ipython3",
   "version": "3.7.4"
  }
 },
 "nbformat": 4,
 "nbformat_minor": 2
}
